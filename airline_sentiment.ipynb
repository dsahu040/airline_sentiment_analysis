{
  "nbformat": 4,
  "nbformat_minor": 0,
  "metadata": {
    "colab": {
      "name": "milestone2.ipynb",
      "provenance": []
    },
    "kernelspec": {
      "display_name": "Python 3",
      "name": "python3"
    }
  },
  "cells": [
    {
      "cell_type": "code",
      "metadata": {
        "id": "Ko1Ly-btNA5A",
        "outputId": "eba4665b-6dd9-487b-9a5a-b76c28ca1d2f",
        "colab": {
          "resources": {
            "http://localhost:8080/nbextensions/google.colab/files.js": {
              "data": "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",
              "ok": true,
              "headers": [
                [
                  "content-type",
                  "application/javascript"
                ]
              ],
              "status": 200,
              "status_text": ""
            }
          },
          "base_uri": "https://localhost:8080/",
          "height": 73
        }
      },
      "source": [
        "from google.colab import files\n",
        "uploaded = files.upload()"
      ],
      "execution_count": 1,
      "outputs": [
        {
          "output_type": "display_data",
          "data": {
            "text/html": [
              "\n",
              "     <input type=\"file\" id=\"files-da484a05-b7b1-4fc4-a41e-918ed66faa2e\" name=\"files[]\" multiple disabled\n",
              "        style=\"border:none\" />\n",
              "     <output id=\"result-da484a05-b7b1-4fc4-a41e-918ed66faa2e\">\n",
              "      Upload widget is only available when the cell has been executed in the\n",
              "      current browser session. Please rerun this cell to enable.\n",
              "      </output>\n",
              "      <script src=\"/nbextensions/google.colab/files.js\"></script> "
            ],
            "text/plain": [
              "<IPython.core.display.HTML object>"
            ]
          },
          "metadata": {
            "tags": []
          }
        },
        {
          "output_type": "stream",
          "text": [
            "Saving Tweets.csv to Tweets.csv\n"
          ],
          "name": "stdout"
        }
      ]
    },
    {
      "cell_type": "code",
      "metadata": {
        "id": "EdXW7pkTx2Lp",
        "outputId": "471ddabd-d7ac-42d8-dc21-dd52050a48ca",
        "colab": {
          "base_uri": "https://localhost:8080/"
        }
      },
      "source": [
        "import re\n",
        "import nltk\n",
        "from nltk.corpus import stopwords\n",
        "\n",
        "nltk.download('wordnet')\n",
        "nltk.download('stopwords')\n",
        "nltk.download('punkt')\n",
        "nltk.download('averaged_perceptron_tagger')\n",
        "\n",
        "from nltk.tokenize import word_tokenize\n",
        "from nltk.corpus import wordnet\n",
        "from nltk.stem import WordNetLemmatizer\n",
        "from nltk import pos_tag\n",
        "\n",
        "\n",
        "def word_type(word):\n",
        "    if word.startswith('J'):\n",
        "        return wordnet.ADJ\n",
        "    elif word.startswith('V'):\n",
        "        return wordnet.VERB\n",
        "    elif word.startswith('N'):\n",
        "        return wordnet.NOUN\n",
        "    elif word.startswith('R'):\n",
        "        return wordnet.ADV\n",
        "    else:\n",
        "        return wordnet.NOUN\n",
        "\n",
        "\n",
        "def text_lemmatizer(word):\n",
        "    lemmatizer = WordNetLemmatizer().lemmatize\n",
        "    word = word_tokenize(str(word))  # Init the Wordnet Lemmatizer\n",
        "    word_pos = pos_tag(word)\n",
        "    lemm_words = [lemmatizer(w[0], word_type(w[1])) for w in word_pos]\n",
        "    return ' '.join(lemm_words)\n",
        "\n",
        "\n",
        "def cleanText(tweet):\n",
        "    word_list = tweet.lower().split()\n",
        "    stop_list = set(stopwords.words(\"english\"))\n",
        "    important_words = [w for w in word_list if not w in stop_list]\n",
        "\n",
        "    clean_word_list = []\n",
        "    for word in important_words:\n",
        "        word = re.sub('@[A-Za-z0–9]+', '', word)  # Removing @mentions\n",
        "        word = re.sub('#', '', word)  # Removing '#' hash tag\n",
        "        word = re.sub('RT[\\s]+', '', word)  # Removing RT\n",
        "        word = re.sub('https?:\\/\\/\\S+', '', word)  # Removing hyperlink\n",
        "        word = re.sub('\\d+', '', word)  # remove number\n",
        "        word = re.sub(r'[^a-zA-Z]', '', word)\n",
        "        word = re.sub(r'\\s+', ' ', word)  # remove white space\n",
        "        word = text_lemmatizer(word)\n",
        "        clean_word_list.append(word)\n",
        "\n",
        "    return \" \".join(clean_word_list)"
      ],
      "execution_count": 2,
      "outputs": [
        {
          "output_type": "stream",
          "text": [
            "[nltk_data] Downloading package wordnet to /root/nltk_data...\n",
            "[nltk_data]   Unzipping corpora/wordnet.zip.\n",
            "[nltk_data] Downloading package stopwords to /root/nltk_data...\n",
            "[nltk_data]   Unzipping corpora/stopwords.zip.\n",
            "[nltk_data] Downloading package punkt to /root/nltk_data...\n",
            "[nltk_data]   Unzipping tokenizers/punkt.zip.\n",
            "[nltk_data] Downloading package averaged_perceptron_tagger to\n",
            "[nltk_data]     /root/nltk_data...\n",
            "[nltk_data]   Unzipping taggers/averaged_perceptron_tagger.zip.\n"
          ],
          "name": "stdout"
        }
      ]
    },
    {
      "cell_type": "code",
      "metadata": {
        "id": "3SeZdfE7x3OS"
      },
      "source": [
        "import pandas as pd\n",
        "import math\n",
        "\n",
        "\n",
        "# calculate the IDF values for each unique word\n",
        "def idf(unique_words, bagOfWords):\n",
        "    n = len(bagOfWords)\n",
        "    idf_val = {}\n",
        "    for word in unique_words:\n",
        "        doc_containing_word = 0\n",
        "        for bagOfWord in bagOfWords:\n",
        "            if word in bagOfWord:\n",
        "                doc_containing_word += 1\n",
        "        idf_val[word] = math.log(n / doc_containing_word)\n",
        "    return idf_val\n",
        "\n",
        "\n",
        "# calculate the TF-IDF for all the tweets\n",
        "# calculate the TF for words and multiply it with corresponding IDF values\n",
        "def tf_idf(words, bagOfWords, idf_val):\n",
        "    tf_idf_list = []\n",
        "    for bagOfWord in bagOfWords:\n",
        "        tf_idt_dict = dict.fromkeys(words, 0.0)\n",
        "        size_of_document = len(bagOfWord)\n",
        "        my_dict = {i:bagOfWord.count(i) for i in bagOfWord}\n",
        "        for word, count in my_dict.items():\n",
        "            tf_val = 0.5 + 0.5*(float(count)/size_of_document)\n",
        "            tf_idt_dict[word] = tf_val * idf_val[word]\n",
        "        tf_idf_list.append(tf_idt_dict)\n",
        "    return tf_idf_list\n",
        "\n",
        "\n",
        "# vectorize all the tweets using TF-IDF\n",
        "# convert the list of TF-IDF values in data frame for further classification\n",
        "def vectorizer(documents):\n",
        "    # create bag of words\n",
        "    bagOfWords = []\n",
        "    unique = set()\n",
        "    for document in documents:\n",
        "        bagOfWord = document.split(' ')\n",
        "        bagOfWords.append(bagOfWord)\n",
        "        for word in bagOfWord:\n",
        "            unique.add(word)\n",
        "\n",
        "    idfs = idf(unique, bagOfWords)\n",
        "    tf_idfs = tf_idf(idfs.keys(), bagOfWords, idfs)\n",
        "    print(\"number of rows: \" + str(len(tf_idfs)) + \"\\nnumer of cols: \" + str(len(tf_idfs[0])))\n",
        "\n",
        "    # convert list to data frame\n",
        "    feature_names = list(unique)\n",
        "    df = pd.DataFrame(tf_idfs, columns=feature_names)\n",
        "    return df\n"
      ],
      "execution_count": 3,
      "outputs": []
    },
    {
      "cell_type": "code",
      "metadata": {
        "id": "TNn3p93Bx5zC"
      },
      "source": [
        "import operator\n",
        "import math\n",
        "import numpy as np\n",
        "\n",
        "\n",
        "def fit(X_train):\n",
        "    n = len(X_train)\n",
        "    sentiment_dict = {}\n",
        "    for i, row in X_train.iterrows():\n",
        "        if row[-1] not in sentiment_dict:\n",
        "            sentiment_dict[row[-1]] = []\n",
        "        sentiment_dict[row[-1]].append(row[:-1])\n",
        "\n",
        "    prior_prob = {}\n",
        "    model = {}\n",
        "    for sentiment_value, rows in sentiment_dict.items():\n",
        "        prior_prob[sentiment_value] = len(rows) / float(n)\n",
        "        model[sentiment_value] = [(np.mean(column), np.std(column)) for column in zip(*rows)]\n",
        "    return model, prior_prob\n",
        "\n",
        "\n",
        "def predict(model, prior_prob, X_test):\n",
        "    y_pred = []\n",
        "    for index, row in X_test.iterrows():\n",
        "        probabilities = {}\n",
        "\n",
        "        for sentiment_class, class_summaries in model.items():\n",
        "            probabilities[sentiment_class] = prior_prob[sentiment_class]\n",
        "\n",
        "            for i in range(len(class_summaries)):\n",
        "                mean, std_dev = class_summaries[i]\n",
        "                probability = (1 / (math.sqrt(2 * math.pi) * std_dev)) * math.exp(\n",
        "                    -((row[i] - mean) ** 2 / (2 * std_dev ** 2)))\n",
        "                probabilities[sentiment_class] *= probability\n",
        "\n",
        "        y_pred.append(max(probabilities.items(), key=operator.itemgetter(1))[0])\n",
        "        \n",
        "    return y_pred\n",
        "\n"
      ],
      "execution_count": 4,
      "outputs": []
    },
    {
      "cell_type": "code",
      "metadata": {
        "id": "7Mg0Ltalx8WD"
      },
      "source": [
        "import pandas as pd\n",
        "\n",
        "\n",
        "# method to calculate scores for classification\n",
        "def print_result(predictions, y_test):\n",
        "    # calculate and print confusion matrix\n",
        "    y_actual = pd.Series(predictions)\n",
        "    y_expected = pd.Series(y_test)\n",
        "    conf_matrix = pd.crosstab(y_expected, y_actual).values\n",
        "    print(\"confusion matrix:\")\n",
        "    print(conf_matrix, \"\\n\")\n",
        "\n",
        "    # calculate precision for all sentiment classes\n",
        "    conf_matrix = conf_matrix\n",
        "\n",
        "    sum_rows = conf_matrix.sum(axis=0)\n",
        "    sum_cols = conf_matrix.sum(axis=1)\n",
        "\n",
        "    precision_a = round(conf_matrix[0][0] / sum_rows[0], 2)\n",
        "    precision_b = round(conf_matrix[1][1] / sum_rows[1], 2)\n",
        "    precision_c = round(conf_matrix[2][2] / sum_rows[2], 2)\n",
        "    weighted_avg_precision = ((precision_a * sum_cols[0]) + (precision_b * sum_cols[1]) + (precision_c * sum_cols[2])) / len(y_test)\n",
        "\n",
        "    # calculate recall for all sentiment classes\n",
        "    recall_a = round(conf_matrix[0][0] / sum_cols[0], 2)\n",
        "    recall_b = round(conf_matrix[1][1] / sum_cols[1], 2)\n",
        "    recall_c = round(conf_matrix[2][2] / sum_cols[2], 2)\n",
        "    weighted_avg_recall = ((recall_a * sum_cols[0]) + (recall_b * sum_cols[1]) + (recall_c * sum_cols[2])) / len(y_test)\n",
        "\n",
        "    # calculate f1-score for all sentiment classes\n",
        "    f_score_a = round(2 * precision_a * recall_a / (precision_a + recall_a), 2)\n",
        "    f_score_b = round(2 * precision_b * recall_b / (precision_b + recall_b), 2)\n",
        "    f_score_c = round(2 * precision_c * recall_c / (precision_c + recall_c), 2)\n",
        "    weighted_avg_f1 = ((f_score_a * sum_cols[0]) + (f_score_b * sum_cols[1]) + (f_score_c * sum_cols[2])) / len(y_test)\n",
        "\n",
        "    # print table containing precision, recall and f1-score for all sentiment classes\n",
        "    d = {0: [precision_a, recall_a, f_score_a], 1: [precision_b, recall_b, f_score_b],\n",
        "         2: [precision_c, recall_c, f_score_c], 'wt_avg': [round(weighted_avg_precision, 2), round(weighted_avg_recall, 2), round(weighted_avg_f1, 2)]}\n",
        "    print(\"{:<10} {:<10} {:<10} {:<10}\".format(' ', 'Precision', 'Recall', 'f1-score'))\n",
        "    for k, v in d.items():\n",
        "        p, r, f = v\n",
        "        print(\"{:<10} {:<10} {:<10} {:<10}\".format(k, p, r, f))\n",
        "\n",
        "    # calculate and print total accuracy\n",
        "    accuracy = round((conf_matrix[0][0] + conf_matrix[1][1] + conf_matrix[2][2]) / len(predictions), 2)\n",
        "    print(\"accuracy: \", accuracy)\n"
      ],
      "execution_count": 5,
      "outputs": []
    },
    {
      "cell_type": "code",
      "metadata": {
        "id": "dOkxIBa-yBIL",
        "outputId": "03a13e09-c49d-4f66-9897-63b458b0ebea",
        "colab": {
          "base_uri": "https://localhost:8080/"
        }
      },
      "source": [
        "import pandas as pd\n",
        "from sklearn.model_selection import train_test_split\n",
        "from sklearn.decomposition import PCA\n",
        "\n",
        "\n",
        "\n",
        "df = pd.read_csv('Tweets.csv')\n",
        "df = df.loc[:, ['airline_sentiment', 'text']]\n",
        "# df = df[:10000]\n",
        "print(df.head(5))\n",
        "\n"
      ],
      "execution_count": 6,
      "outputs": [
        {
          "output_type": "stream",
          "text": [
            "  airline_sentiment                                               text\n",
            "0           neutral                @VirginAmerica What @dhepburn said.\n",
            "1          positive  @VirginAmerica plus you've added commercials t...\n",
            "2           neutral  @VirginAmerica I didn't today... Must mean I n...\n",
            "3          negative  @VirginAmerica it's really aggressive to blast...\n",
            "4          negative  @VirginAmerica and it's a really big bad thing...\n"
          ],
          "name": "stdout"
        }
      ]
    },
    {
      "cell_type": "code",
      "metadata": {
        "id": "A0-kZkjdGgy-",
        "outputId": "560b3631-b0c7-4a4e-a5bc-62c4ae29680c",
        "colab": {
          "base_uri": "https://localhost:8080/",
          "height": 195
        }
      },
      "source": [
        "df['text'] = df['text'].apply(lambda x: cleanText(x))\n",
        "df['label_nb'] = df['airline_sentiment'].map({'negative': 0, 'neutral': 1, 'positive': 2})\n",
        "df.head()"
      ],
      "execution_count": 7,
      "outputs": [
        {
          "output_type": "execute_result",
          "data": {
            "text/html": [
              "<div>\n",
              "<style scoped>\n",
              "    .dataframe tbody tr th:only-of-type {\n",
              "        vertical-align: middle;\n",
              "    }\n",
              "\n",
              "    .dataframe tbody tr th {\n",
              "        vertical-align: top;\n",
              "    }\n",
              "\n",
              "    .dataframe thead th {\n",
              "        text-align: right;\n",
              "    }\n",
              "</style>\n",
              "<table border=\"1\" class=\"dataframe\">\n",
              "  <thead>\n",
              "    <tr style=\"text-align: right;\">\n",
              "      <th></th>\n",
              "      <th>airline_sentiment</th>\n",
              "      <th>text</th>\n",
              "      <th>label_nb</th>\n",
              "    </tr>\n",
              "  </thead>\n",
              "  <tbody>\n",
              "    <tr>\n",
              "      <th>0</th>\n",
              "      <td>neutral</td>\n",
              "      <td>say</td>\n",
              "      <td>1</td>\n",
              "    </tr>\n",
              "    <tr>\n",
              "      <th>1</th>\n",
              "      <td>positive</td>\n",
              "      <td>plus add commercial experience tacky</td>\n",
              "      <td>2</td>\n",
              "    </tr>\n",
              "    <tr>\n",
              "      <th>2</th>\n",
              "      <td>neutral</td>\n",
              "      <td>today must mean need take another trip</td>\n",
              "      <td>1</td>\n",
              "    </tr>\n",
              "    <tr>\n",
              "      <th>3</th>\n",
              "      <td>negative</td>\n",
              "      <td>really aggressive blast obnoxious entertainme...</td>\n",
              "      <td>0</td>\n",
              "    </tr>\n",
              "    <tr>\n",
              "      <th>4</th>\n",
              "      <td>negative</td>\n",
              "      <td>really big bad thing</td>\n",
              "      <td>0</td>\n",
              "    </tr>\n",
              "  </tbody>\n",
              "</table>\n",
              "</div>"
            ],
            "text/plain": [
              "  airline_sentiment  ... label_nb\n",
              "0           neutral  ...        1\n",
              "1          positive  ...        2\n",
              "2           neutral  ...        1\n",
              "3          negative  ...        0\n",
              "4          negative  ...        0\n",
              "\n",
              "[5 rows x 3 columns]"
            ]
          },
          "metadata": {
            "tags": []
          },
          "execution_count": 7
        }
      ]
    },
    {
      "cell_type": "code",
      "metadata": {
        "id": "hR7gqHNgGqoq",
        "outputId": "8e7fcd02-5b16-4327-b9d5-c68a0d8f5b74",
        "colab": {
          "base_uri": "https://localhost:8080/"
        }
      },
      "source": [
        "vector_df = vectorizer(df['text'])"
      ],
      "execution_count": 8,
      "outputs": [
        {
          "output_type": "stream",
          "text": [
            "number of rows: 14640\n",
            "numer of cols: 10694\n"
          ],
          "name": "stdout"
        }
      ]
    },
    {
      "cell_type": "code",
      "metadata": {
        "id": "qMU_awAnGsiE"
      },
      "source": [
        "pca = PCA(n_components=50)\n",
        "principalComponents = pca.fit_transform(vector_df)\n",
        "columns = ['pca_%i' % i for i in range(50)] # principalComponents.shape[1]\n",
        "principalDf = pd.DataFrame(data=principalComponents, columns=columns)\n"
      ],
      "execution_count": 10,
      "outputs": []
    },
    {
      "cell_type": "code",
      "metadata": {
        "id": "4al8b0CWGu-0",
        "outputId": "07f00eef-1db1-4e0f-86cc-1da27c7697a9",
        "colab": {
          "base_uri": "https://localhost:8080/"
        }
      },
      "source": [
        "principalDf['label_nb'] = df['label_nb']\n",
        "X_train = principalDf.sample(frac=0.8, random_state=0)\n",
        "X_test = principalDf.drop(X_train.index)\n",
        "y_test = X_test['label_nb']\n",
        "del X_test['label_nb']\n",
        "print(X_train.shape, X_test.shape, y_test.shape)\n"
      ],
      "execution_count": 11,
      "outputs": [
        {
          "output_type": "stream",
          "text": [
            "(11712, 51) (2928, 50) (2928,)\n"
          ],
          "name": "stdout"
        }
      ]
    },
    {
      "cell_type": "code",
      "metadata": {
        "id": "h7kuTN9rGxBT",
        "outputId": "b3d94f2b-8cc0-42f7-e442-31c22a0874a0",
        "colab": {
          "base_uri": "https://localhost:8080/"
        }
      },
      "source": [
        "model, prior = fit(X_train)\n",
        "y_pred = predict(model, prior, X_test)\n",
        "predictions = pd.DataFrame(y_pred, columns=['target'])\n",
        "print_result(y_pred, y_test.tolist())"
      ],
      "execution_count": 12,
      "outputs": [
        {
          "output_type": "stream",
          "text": [
            "confusion matrix:\n",
            "[[1241  465  110]\n",
            " [ 180  392   54]\n",
            " [ 127  122  237]] \n",
            "\n",
            "           Precision  Recall     f1-score  \n",
            "0          0.8        0.68       0.74      \n",
            "1          0.4        0.63       0.49      \n",
            "2          0.59       0.49       0.54      \n",
            "wt_avg     0.68       0.64       0.65      \n",
            "accuracy:  0.64\n"
          ],
          "name": "stdout"
        }
      ]
    }
  ]
}